{
 "cells": [
  {
   "cell_type": "code",
   "execution_count": 63,
   "metadata": {},
   "outputs": [],
   "source": [
    "from ipywidgets.widgets import Label\n",
    "from ipywidgets.widgets import FloatProgress\n",
    "from ipywidgets.widgets import FloatSlider\n",
    "from ipywidgets.widgets import Button\n",
    "from ipywidgets.widgets import Layout\n",
    "from ipywidgets.widgets import HBox\n",
    "from ipywidgets.widgets import VBox\n",
    "from IPython.display import display\n",
    "import pandas as pd\n",
    "import numpy as np\n",
    "#import bqplot as bq\n",
    "import time\n",
    "import threading"
   ]
  },
  {
   "cell_type": "code",
   "execution_count": 64,
   "metadata": {},
   "outputs": [],
   "source": [
    "# flag to control loop\n",
    "\n",
    "flag = True\n",
    "\n",
    "#data to plot\n",
    "\n",
    "x= np.linspace(0, 2*np.pi, 500)\n",
    "dx = x[1] -x[0]\n",
    "y = 1 + np.sin(x)"
   ]
  },
  {
   "cell_type": "code",
   "execution_count": 65,
   "metadata": {},
   "outputs": [],
   "source": [
    "# GUI element\n",
    "\n",
    "# stop button\n",
    "b_stop = Button( \n",
    "      description='Stop',\n",
    "      icon='stop',\n",
    "      button_style='warning',\n",
    "      layout=Layout(width='100px')\n",
    ")\n",
    "\n",
    "def stop_click(b):\n",
    "    global flag\n",
    "    flag = False\n",
    "\n",
    "b_stop.on_click(stop_click)\n",
    "\n",
    "# progress bar and labels\n",
    "w1 = FloatProgress(\n",
    "    value=y[-1],\n",
    "    min=0,\n",
    "    max=2,\n",
    "    description='PV:',\n",
    "    style={'description_width':'initial'},\n",
    "    layout=Layout(width='365px')\n",
    ")\n",
    "\n",
    "w2 = Label(\n",
    "    value=str(np.round(y[-1],2)),\n",
    "    layout=Layout(margin='0 10px 0 31px')\n",
    ")\n",
    "\n",
    "w12 = HBox(\n",
    "    children=(w1,w2),\n",
    "    layout=Layout(margin='0 0 0 43px')\n",
    ")\n",
    "\n",
    "#slider\n",
    "wA = FloatSlider(\n",
    "     value=0,\n",
    "     min=0,\n",
    "    max=0.5,\n",
    "    step=0.01,\n",
    "    description='Noise:',\n",
    "    layout=Layout(width='490px',margin='0 0 5px 0')\n",
    ")"
   ]
  },
  {
   "cell_type": "code",
   "execution_count": 66,
   "metadata": {},
   "outputs": [
    {
     "ename": "NameError",
     "evalue": "name 'bq' is not defined",
     "output_type": "error",
     "traceback": [
      "\u001b[1;31m---------------------------------------------------------------------------\u001b[0m",
      "\u001b[1;31mNameError\u001b[0m                                 Traceback (most recent call last)",
      "\u001b[1;32m<ipython-input-66-9384e3da3d2d>\u001b[0m in \u001b[0;36m<module>\u001b[1;34m\u001b[0m\n\u001b[0;32m      2\u001b[0m \u001b[1;33m\u001b[0m\u001b[0m\n\u001b[0;32m      3\u001b[0m \u001b[1;31m#scales\u001b[0m\u001b[1;33m\u001b[0m\u001b[1;33m\u001b[0m\u001b[1;33m\u001b[0m\u001b[0m\n\u001b[1;32m----> 4\u001b[1;33m \u001b[0mx_sc\u001b[0m \u001b[1;33m=\u001b[0m \u001b[0mbq\u001b[0m\u001b[1;33m.\u001b[0m\u001b[0mLinearScale\u001b[0m\u001b[1;33m(\u001b[0m\u001b[1;33m)\u001b[0m\u001b[1;33m\u001b[0m\u001b[1;33m\u001b[0m\u001b[0m\n\u001b[0m\u001b[0;32m      5\u001b[0m \u001b[0my_sc\u001b[0m \u001b[1;33m=\u001b[0m \u001b[0mbq\u001b[0m\u001b[1;33m.\u001b[0m\u001b[0mLinearScale\u001b[0m\u001b[1;33m(\u001b[0m\u001b[1;33m)\u001b[0m\u001b[1;33m\u001b[0m\u001b[1;33m\u001b[0m\u001b[0m\n\u001b[0;32m      6\u001b[0m \u001b[1;33m\u001b[0m\u001b[0m\n",
      "\u001b[1;31mNameError\u001b[0m: name 'bq' is not defined"
     ]
    }
   ],
   "source": [
    "# plot elements\n",
    "\n",
    "#scales\n",
    "x_sc = bq.LinearScale()\n",
    "y_sc = bq.LinearScale()\n",
    "\n",
    "#axis\n",
    "x_ax = bq.Axis(\n",
    "     label='x(t)',\n",
    "    scale=x_sc\n",
    ")\n",
    "\n",
    "y_ax = bq.Axis(\n",
    "     label='y(t)',\n",
    "    scale=y_sc,\n",
    "    orientation='vertical'\n",
    ")\n",
    "\n",
    "# line\n",
    "Line = bq.Lines(\n",
    "      x=x,\n",
    "      y=y,\n",
    "      scales={'x':x_sc,'y':y_sc}\n",
    ")\n",
    "\n",
    "# figure\n",
    "fig=bq.Figure(\n",
    "    layout=Layout(width='500px',height='300px'),\n",
    "    axes=[x_ax,y_ax],\n",
    "    marks=[Line],\n",
    "    fig_margin=dict(top=10,bottom=40,left=50,right=10)\n",
    ")"
   ]
  },
  {
   "cell_type": "code",
   "execution_count": 67,
   "metadata": {},
   "outputs": [
    {
     "ename": "NameError",
     "evalue": "name 'fig' is not defined",
     "output_type": "error",
     "traceback": [
      "\u001b[1;31m---------------------------------------------------------------------------\u001b[0m",
      "\u001b[1;31mNameError\u001b[0m                                 Traceback (most recent call last)",
      "\u001b[1;32m<ipython-input-67-e0a5fffa2001>\u001b[0m in \u001b[0;36m<module>\u001b[1;34m\u001b[0m\n\u001b[0;32m      1\u001b[0m \u001b[1;31m# join everything\u001b[0m\u001b[1;33m\u001b[0m\u001b[1;33m\u001b[0m\u001b[1;33m\u001b[0m\u001b[0m\n\u001b[0;32m      2\u001b[0m box = VBox(\n\u001b[1;32m----> 3\u001b[1;33m    \u001b[0mchildren\u001b[0m\u001b[1;33m=\u001b[0m\u001b[1;33m(\u001b[0m\u001b[0mfig\u001b[0m\u001b[1;33m,\u001b[0m\u001b[0mw12\u001b[0m\u001b[1;33m,\u001b[0m\u001b[0mwA\u001b[0m\u001b[1;33m)\u001b[0m\u001b[1;33m,\u001b[0m\u001b[1;33m\u001b[0m\u001b[1;33m\u001b[0m\u001b[0m\n\u001b[0m\u001b[0;32m      4\u001b[0m    \u001b[0mlayout\u001b[0m\u001b[1;33m=\u001b[0m\u001b[0mLayout\u001b[0m\u001b[1;33m(\u001b[0m\u001b[0mborder\u001b[0m\u001b[1;33m=\u001b[0m\u001b[1;34m'solid 2px gray'\u001b[0m\u001b[1;33m,\u001b[0m\u001b[0mwidth\u001b[0m\u001b[1;33m=\u001b[0m\u001b[1;34m'510px'\u001b[0m\u001b[1;33m)\u001b[0m\u001b[1;33m\u001b[0m\u001b[1;33m\u001b[0m\u001b[0m\n\u001b[0;32m      5\u001b[0m )\n",
      "\u001b[1;31mNameError\u001b[0m: name 'fig' is not defined"
     ]
    }
   ],
   "source": [
    "# join everything\n",
    "box = VBox(\n",
    "   children=(fig,w12,wA),\n",
    "   layout=Layout(border='solid 2px gray',width='510px')\n",
    ")\n",
    "\n",
    "app = VBox(\n",
    "    children=(b_stop,box)\n",
    ")"
   ]
  },
  {
   "cell_type": "code",
   "execution_count": 68,
   "metadata": {},
   "outputs": [],
   "source": [
    " # loop function\n",
    "def work():\n",
    "    global x\n",
    "    global y\n",
    "    \n",
    "    while flag:\n",
    "        \n",
    "        # get latest value of slider\n",
    "        A = wA.value\n",
    "        \n",
    "        # delete old values from x and y\n",
    "        x = np.delete(x,0)\n",
    "        y = np.delete(y,0)\n",
    "        \n",
    "        # add new values of a and y\n",
    "        x = np.append(x,x[-1]+dx)\n",
    "        noise = A*np.random.rand()\n",
    "        y = np.append(y,1 + np.sin(x[-1])+noise)\n",
    "        \n",
    "        # update progressbar and label\n",
    "        w1.value = y[-1]\n",
    "        w2.value = str(np.round(y[-1],2))\n",
    "        \n",
    "        # update plot\n",
    "        Line.x = x\n",
    "        Line.y = y\n",
    "        \n",
    "        #control cycle speed\n",
    "        time.sleep(0.05)"
   ]
  },
  {
   "cell_type": "code",
   "execution_count": 70,
   "metadata": {},
   "outputs": [
    {
     "data": {
      "application/vnd.jupyter.widget-view+json": {
       "model_id": "035e3e3142f840bfb6b84b7adc96dd25",
       "version_major": 2,
       "version_minor": 0
      },
      "text/plain": [
       "VBox(children=(Button(button_style='warning', description='Stop', icon='stop', layout=Layout(width='100px'), s…"
      ]
     },
     "metadata": {},
     "output_type": "display_data"
    },
    {
     "name": "stderr",
     "output_type": "stream",
     "text": [
      "Exception in thread Thread-6:\n",
      "Traceback (most recent call last):\n",
      "  File \"C:\\Users\\Yograj\\anaconda3\\lib\\threading.py\", line 926, in _bootstrap_inner\n",
      "    self.run()\n",
      "  File \"C:\\Users\\Yograj\\anaconda3\\lib\\threading.py\", line 870, in run\n",
      "    self._target(*self._args, **self._kwargs)\n",
      "  File \"<ipython-input-68-cd267eb2bb6f>\", line 25, in work\n",
      "    Line.x = x\n",
      "NameError: name 'Line' is not defined\n",
      "\n"
     ]
    }
   ],
   "source": [
    "# set the flag to true\n",
    "flag = True\n",
    "\n",
    "# create thread\n",
    "thread = threading.Thread(target=work)\n",
    "\n",
    "# display the app\n",
    "display(app)\n",
    "\n",
    "#start thread\n",
    "thread.start()"
   ]
  },
  {
   "cell_type": "code",
   "execution_count": null,
   "metadata": {},
   "outputs": [],
   "source": []
  }
 ],
 "metadata": {
  "kernelspec": {
   "display_name": "Python 3",
   "language": "python",
   "name": "python3"
  },
  "language_info": {
   "codemirror_mode": {
    "name": "ipython",
    "version": 3
   },
   "file_extension": ".py",
   "mimetype": "text/x-python",
   "name": "python",
   "nbconvert_exporter": "python",
   "pygments_lexer": "ipython3",
   "version": "3.7.6"
  }
 },
 "nbformat": 4,
 "nbformat_minor": 4
}
